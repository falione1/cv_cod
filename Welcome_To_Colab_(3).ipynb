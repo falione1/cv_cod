{
  "cells": [
    {
      "cell_type": "markdown",
      "source": [
        "Data Preprocessing"
      ],
      "metadata": {
        "id": "aMolpha43G6D"
      }
    },
    {
      "cell_type": "code",
      "source": [
        "import pandas as pd\n",
        "import numpy as np\n",
        "\n",
        "\n",
        "data = {\n",
        "    'ID': ['001', '002', '003', '004', '005', '006', '007'],\n",
        "    'Name': ['Ali', None, 'Reza', 'Maryam', 'Ali', 'Hossein', 'Nazanin'],\n",
        "    'Age': ['27', 'twenty eight', '30', '29', '27', None, '25'],\n",
        "    'Email': ['ali@gmail', 'sara@yahoo.com', 'REZA@GMAIL.COM', 'maryam@gmail.com', 'ali@gmail', 'hossein123@@mail.com', 'nazanin@outlook.com'],\n",
        "    'PurchaseAmount': ['120.5', '89.99', 'NaN', '105', '120.5', '97.3', 'abc'],\n",
        "    'SignupDate': ['2021/04/11', '04-12-2021', '2021.04.13', '2021/04/14', '2021/04/11', '2021-14-04', '2021/04/15']\n",
        "}\n",
        "\n",
        "df = pd.DataFrame(data)\n",
        "\n",
        "df = df.drop_duplicates()\n",
        "\n",
        "\n",
        "def convert_age(age):\n",
        "    try:\n",
        "        return int(age)\n",
        "    except:\n",
        "        if isinstance(age, str) and 'twenty eight' in age.lower():\n",
        "            return 28\n",
        "        return np.nan\n",
        "\n",
        "df['Age'] = df['Age'].apply(convert_age)\n",
        "\n",
        "\n",
        "df = df.dropna(subset=['Age'])\n",
        "\n",
        "\n",
        "df['PurchaseAmount'] = pd.to_numeric(df['PurchaseAmount'], errors='coerce')\n",
        "mean_purchase = df['PurchaseAmount'].mean()\n",
        "df['PurchaseAmount'].fillna(mean_purchase, inplace=True)\n",
        "\n",
        "\n",
        "def valid_email(email):\n",
        "    if isinstance(email, str) and email.count('@') == 1 and ' ' not in email:\n",
        "        return True\n",
        "    return False\n",
        "\n",
        "df = df[df['Email'].apply(valid_email)]\n",
        "\n",
        "\n",
        "def parse_date(date_str):\n",
        "    for fmt in ('%Y/%m/%d', '%m-%d-%Y', '%Y.%m.%d', '%Y-%m-%d'):\n",
        "        try:\n",
        "            return pd.to_datetime(date_str, format=fmt)\n",
        "        except:\n",
        "            continue\n",
        "    return pd.NaT\n",
        "\n",
        "df['SignupDate'] = df['SignupDate'].apply(parse_date)\n",
        "df = df.dropna(subset=['SignupDate'])\n",
        "\n",
        "print(df)\n"
      ],
      "metadata": {
        "colab": {
          "base_uri": "https://localhost:8080/"
        },
        "id": "0ETmBxCw3ZP9",
        "outputId": "d8f18dec-6136-4b8c-b764-fd95903b3a46"
      },
      "execution_count": null,
      "outputs": [
        {
          "output_type": "stream",
          "name": "stdout",
          "text": [
            "    ID     Name   Age                Email  PurchaseAmount SignupDate\n",
            "0  001      Ali  27.0            ali@gmail        120.5000 2021-04-11\n",
            "1  002     None  28.0       sara@yahoo.com         89.9900 2021-04-12\n",
            "2  003     Reza  30.0       REZA@GMAIL.COM        108.9975 2021-04-13\n",
            "3  004   Maryam  29.0     maryam@gmail.com        105.0000 2021-04-14\n",
            "4  005      Ali  27.0            ali@gmail        120.5000 2021-04-11\n",
            "6  007  Nazanin  25.0  nazanin@outlook.com        108.9975 2021-04-15\n"
          ]
        },
        {
          "output_type": "stream",
          "name": "stderr",
          "text": [
            "<ipython-input-29-b3b077bb2fc8>:35: FutureWarning: A value is trying to be set on a copy of a DataFrame or Series through chained assignment using an inplace method.\n",
            "The behavior will change in pandas 3.0. This inplace method will never work because the intermediate object on which we are setting values always behaves as a copy.\n",
            "\n",
            "For example, when doing 'df[col].method(value, inplace=True)', try using 'df.method({col: value}, inplace=True)' or df[col] = df[col].method(value) instead, to perform the operation inplace on the original object.\n",
            "\n",
            "\n",
            "  df['PurchaseAmount'].fillna(mean_purchase, inplace=True)\n"
          ]
        }
      ]
    },
    {
      "cell_type": "markdown",
      "source": [
        "Binning"
      ],
      "metadata": {
        "id": "f1ODwRN93nWA"
      }
    },
    {
      "cell_type": "code",
      "source": [
        "\n",
        "bins_age = [0, 26, 29, 100]\n",
        "labels_age = ['Young', 'Middle', 'Old']\n",
        "df['AgeBin'] = pd.cut(df['Age'], bins=bins_age, labels=labels_age)\n",
        "\n",
        "bins_purchase = [0, 90, 110, np.inf]\n",
        "labels_purchase = ['Low', 'Medium', 'High']\n",
        "df['PurchaseBin'] = pd.cut(df['PurchaseAmount'], bins=bins_purchase, labels=labels_purchase)\n",
        "\n",
        "print(df[['Age', 'AgeBin', 'PurchaseAmount', 'PurchaseBin']])\n"
      ],
      "metadata": {
        "colab": {
          "base_uri": "https://localhost:8080/"
        },
        "id": "M63FH1kT3zfT",
        "outputId": "b05444cf-97f9-4a1f-e445-1ef935343406"
      },
      "execution_count": null,
      "outputs": [
        {
          "output_type": "stream",
          "name": "stdout",
          "text": [
            "    Age  AgeBin  PurchaseAmount PurchaseBin\n",
            "0  27.0  Middle        120.5000        High\n",
            "1  28.0  Middle         89.9900         Low\n",
            "2  30.0     Old        108.9975      Medium\n",
            "3  29.0  Middle        105.0000      Medium\n",
            "4  27.0  Middle        120.5000        High\n",
            "6  25.0   Young        108.9975      Medium\n"
          ]
        }
      ]
    },
    {
      "cell_type": "markdown",
      "source": [
        "L_Regression"
      ],
      "metadata": {
        "id": "dUXWihXK34yF"
      }
    },
    {
      "cell_type": "code",
      "source": [
        "from sklearn.linear_model import LinearRegression\n",
        "from sklearn.preprocessing import LabelEncoder\n",
        "\n",
        "le = LabelEncoder()\n",
        "df['NameEncoded'] = le.fit_transform(df['Name'])\n",
        "\n",
        "df['SignupDayOfYear'] = df['SignupDate'].dt.dayofyear\n",
        "\n",
        "X = df[['Age', 'NameEncoded', 'SignupDayOfYear']]\n",
        "y = df['PurchaseAmount']\n",
        "\n",
        "model = LinearRegression()\n",
        "model.fit(X, y)\n",
        "\n",
        "y_pred = model.predict(X)\n",
        "print(\"Predictions:\", y_pred)\n"
      ],
      "metadata": {
        "colab": {
          "base_uri": "https://localhost:8080/"
        },
        "id": "MqispDvE3_k-",
        "outputId": "017f59b6-d2f6-4581-f1c0-ce43fc7af8ff"
      },
      "execution_count": null,
      "outputs": [
        {
          "output_type": "stream",
          "name": "stdout",
          "text": [
            "Predictions: [119.54387931  95.72672414 100.71112069 112.01155172 119.54387931\n",
            " 106.44784483]\n"
          ]
        }
      ]
    },
    {
      "cell_type": "markdown",
      "source": [
        "Cross-Validation"
      ],
      "metadata": {
        "id": "T064vgkR4KrW"
      }
    },
    {
      "cell_type": "code",
      "source": [
        "from sklearn.model_selection import KFold, cross_val_score\n",
        "import numpy as np\n",
        "\n",
        "kf = KFold(n_splits=5, shuffle=True, random_state=42)\n",
        "\n",
        "scores = cross_val_score(model, X, y, scoring='neg_mean_squared_error', cv=kf)\n",
        "rmse_scores = np.sqrt(-scores)\n",
        "\n",
        "print(\"RMSE for each fold:\", rmse_scores)\n",
        "print(\"Mean RMSE:\", rmse_scores.mean())\n",
        "print(\"Standard deviation of RMSE:\", rmse_scores.std())\n"
      ],
      "metadata": {
        "colab": {
          "base_uri": "https://localhost:8080/"
        },
        "id": "vwh8THuV4O6b",
        "outputId": "2ce2c0e7-e6fe-4246-9e6a-ae72e1937b54"
      },
      "execution_count": null,
      "outputs": [
        {
          "output_type": "stream",
          "name": "stdout",
          "text": [
            "RMSE for each fold: [19.60630328 62.386875   19.19596154  1.89051136 22.68613636]\n",
            "Mean RMSE: 25.15315750821684\n",
            "Standard deviation of RMSE: 19.999211949156553\n"
          ]
        }
      ]
    }
  ],
  "metadata": {
    "colab": {
      "toc_visible": true,
      "provenance": []
    },
    "kernelspec": {
      "display_name": "Python 3",
      "name": "python3"
    }
  },
  "nbformat": 4,
  "nbformat_minor": 0
}